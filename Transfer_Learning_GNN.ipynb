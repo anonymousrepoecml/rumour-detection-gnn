{
 "cells": [
  {
   "cell_type": "code",
   "execution_count": 14,
   "id": "efe6d5fe-11fe-4113-8d1a-e8e66a1eb04c",
   "metadata": {},
   "outputs": [],
   "source": [
    "import pandas as pd\n",
    "from sklearn.metrics import *\n",
    "from tqdm import tqdm\n",
    "from utils import Hetero_Data_Processor_Transfer_Learning\n",
    "import numpy as np\n",
    "import warnings\n",
    "warnings.filterwarnings('ignore')\n"
   ]
  },
  {
   "cell_type": "code",
   "execution_count": 15,
   "id": "24512f95-2240-4ce0-88dd-4028d58e42dd",
   "metadata": {},
   "outputs": [
    {
     "name": "stdout",
     "output_type": "stream",
     "text": [
      "rumour\n",
      "1    180\n",
      "0    163\n",
      "Name: count, dtype: int64\n"
     ]
    }
   ],
   "source": [
    "train_dataset = 'charlie_hebdo'\n",
    "test_dataset = 'ottawashooting'\n",
    "time_cut =60*3*24\n",
    "processor = Hetero_Data_Processor_Transfer_Learning(train_dataset, test_dataset, time_cut=time_cut,test_size=0.4)\n",
    "data = processor.process()"
   ]
  },
  {
   "cell_type": "code",
   "execution_count": 16,
   "id": "e7373972-22a7-4fce-a342-3013be3cbf32",
   "metadata": {},
   "outputs": [
    {
     "data": {
      "text/plain": [
       "HeteroData(\n",
       "  id={\n",
       "    x=[2859, 106],\n",
       "    y=[2859],\n",
       "    train_mask=[2859],\n",
       "    val_mask=[2859],\n",
       "    test_mask=[2859],\n",
       "  },\n",
       "  reply_user_id={ x=[26437, 104] },\n",
       "  (id, retweet, reply_user_id)={ edge_index=[2, 26437] },\n",
       "  (reply_user_id, rev_retweet, id)={ edge_index=[2, 26437] }\n",
       ")"
      ]
     },
     "execution_count": 16,
     "metadata": {},
     "output_type": "execute_result"
    }
   ],
   "source": [
    "data"
   ]
  },
  {
   "cell_type": "code",
   "execution_count": 17,
   "id": "8389c8e2-2d0d-454d-aa32-b937791c237e",
   "metadata": {},
   "outputs": [],
   "source": [
    "import torch\n",
    "import torch.nn as nn\n",
    "import torch.nn.functional as F\n",
    "from torch_geometric.nn import GATConv, to_hetero\n",
    "\n",
    "class GAT(torch.nn.Module):\n",
    "    def __init__(self, dim_h,dim_i, dim_out):\n",
    "        super().__init__()\n",
    "        self.conv1 = GATConv((-1, -1), dim_h, add_self_loops=False)\n",
    "        self.conv2 = GATConv(dim_h, dim_i, add_self_loops=False)  # Added second GATConv layer\n",
    "        self.linear = nn.Linear(dim_i, dim_out)\n",
    "        self.dropout = nn.Dropout(p=0.2)\n",
    "\n",
    "    def forward(self, x, edge_index):\n",
    "        h = self.conv1(x, edge_index).relu()\n",
    "        h = self.dropout(h)\n",
    "        h = self.conv2(h, edge_index).relu()  # Pass through the second GATConv layer\n",
    "        h = self.dropout(h)\n",
    "        h = self.linear(h)\n",
    "        return h\n",
    "\n",
    "@torch.no_grad()\n",
    "def test(mask):\n",
    "    model.eval()\n",
    "    pred = model(data.x_dict, data.edge_index_dict)['id'].argmax(dim=-1)\n",
    "    acc = (pred[mask] == data['id'].y[mask]).sum() / mask.sum()\n",
    "    return float(acc)"
   ]
  },
  {
   "cell_type": "code",
   "execution_count": 18,
   "id": "f4c0b049-7d68-40fa-8685-41cc7e313917",
   "metadata": {},
   "outputs": [
    {
     "name": "stdout",
     "output_type": "stream",
     "text": [
      "Epoch:   0 | Train Loss: 0.8086 | Train Acc: 66.97% | Val Acc: 57.56%\n",
      "Epoch:  50 | Train Loss: 0.4204 | Train Acc: 80.68% | Val Acc: 72.09%\n",
      "Epoch: 100 | Train Loss: 0.3491 | Train Acc: 84.86% | Val Acc: 76.16%\n",
      "Epoch: 150 | Train Loss: 0.2978 | Train Acc: 87.60% | Val Acc: 77.91%\n",
      "Epoch: 200 | Train Loss: 0.2552 | Train Acc: 89.51% | Val Acc: 79.65%\n",
      "Epoch: 250 | Train Loss: 0.2271 | Train Acc: 91.61% | Val Acc: 79.65%\n",
      "Epoch: 300 | Train Loss: 0.1900 | Train Acc: 93.32% | Val Acc: 81.98%\n",
      "Epoch: 350 | Train Loss: 0.1596 | Train Acc: 94.79% | Val Acc: 81.40%\n",
      "Epoch: 400 | Train Loss: 0.1322 | Train Acc: 95.75% | Val Acc: 80.81%\n",
      "Epoch: 450 | Train Loss: 0.1104 | Train Acc: 96.74% | Val Acc: 80.81%\n",
      "Test accuracy: 73.10%\n"
     ]
    }
   ],
   "source": [
    "\n",
    "model = GAT(dim_h=64,dim_i=32, dim_out=2)\n",
    "model = to_hetero(model, data.metadata(), aggr='sum')\n",
    "\n",
    "optimizer = torch.optim.Adam(model.parameters(), lr=0.001)\n",
    "device = torch.device('cuda' if torch.cuda.is_available() else 'cpu')\n",
    "data, model = data.to(device), model.to(device)\n",
    "\n",
    "\n",
    "\n",
    "for epoch in range(500):\n",
    "    model.train()\n",
    "    optimizer.zero_grad()\n",
    "    out = model(data.x_dict, data.edge_index_dict)['id']\n",
    "    mask = data['id'].train_mask\n",
    "    loss = F.cross_entropy(out[mask], data['id'].y[mask])\n",
    "    loss.backward()\n",
    "    optimizer.step()\n",
    "    \n",
    "    if epoch % 50 == 0:\n",
    "        train_acc = test(data['id'].train_mask)\n",
    "        val_acc = test(data['id'].val_mask)\n",
    "        print(f'Epoch: {epoch:>3} | Train Loss: {loss:.4f} | Train Acc: {train_acc*100:.2f}% | Val Acc: {val_acc*100:.2f}%')\n",
    "    \n",
    "test_acc = test(data['id'].test_mask)\n",
    "print(f'Test accuracy: {test_acc*100:.2f}%')\n",
    "    \n"
   ]
  },
  {
   "cell_type": "code",
   "execution_count": 20,
   "id": "00b027ff-d42d-4b48-a3d4-d37da96e165f",
   "metadata": {},
   "outputs": [
    {
     "name": "stdout",
     "output_type": "stream",
     "text": [
      "Test Recall: 77.61%\n",
      "Test Precision: 77.90%\n"
     ]
    }
   ],
   "source": [
    "test_mask = data['id'].test_mask | data['id'].val_mask\n",
    "pred = model(data.x_dict, data.edge_index_dict)['id'].argmax(dim=-1)\n",
    "true_labels = data['id'].y[test_mask]\n",
    "pred_labels = pred[test_mask]\n",
    "test_precision =precision_score(true_labels, pred_labels, average='macro')\n",
    "test_recall=recall_score(true_labels, pred_labels, average='macro')\n",
    "print(f'Test Recall: {test_recall*100:.2f}%')\n",
    "print(f'Test Precision: {test_precision*100:.2f}%')"
   ]
  },
  {
   "cell_type": "code",
   "execution_count": 8,
   "id": "a1529c15-3a80-484c-94aa-4796b4749a06",
   "metadata": {},
   "outputs": [
    {
     "data": {
      "text/plain": [
       "<Experiment: artifact_location='/workspaces/rumour-detection-gnn/mlruns/16', creation_time=1734873281509, experiment_id='16', last_update_time=1734873281509, lifecycle_stage='active', name='GAT Network 2024-12-21 2 layers ferguson', tags={}>"
      ]
     },
     "execution_count": 8,
     "metadata": {},
     "output_type": "execute_result"
    }
   ],
   "source": [
    "import mlflow\n",
    "mlflow.set_tracking_uri(\"sqlite:///mlflow.db\")\n",
    "#mlflow.set_experiment(\"spyder-experiment\")\n",
    "import mlflow.pytorch\n",
    "mlflow.set_experiment(\"GAT Network 2024-12-21 2 layers ferguson\")"
   ]
  },
  {
   "cell_type": "code",
   "execution_count": null,
   "id": "24762e0c-ad09-4ff3-bde9-4956e29509c1",
   "metadata": {},
   "outputs": [],
   "source": [
    "#\n",
    "train_dataset = 'charlie_hebdo'\n",
    "test_dataset = 'ferguson'\n",
    "\n",
    "\n",
    "for time_cut in range(4320,(60*6*24),60):\n",
    "    print(time_cut)\n",
    "    processor = Hetero_Data_Processor_Transfer_Learning(train_dataset, test_dataset, time_cut=time_cut,test_size=0.7)\n",
    "    data = processor.process()\n",
    "    \n",
    "    model =  GAT(dim_h=64,dim_i=32, dim_out=2)\n",
    "    model = to_hetero(model, data.metadata(), aggr='sum')\n",
    "        \n",
    "    optimizer = torch.optim.Adam(model.parameters(), lr=0.001)\n",
    "    device = torch.device('cuda' if torch.cuda.is_available() else 'cpu')\n",
    "    data, model = data.to(device), model.to(device)\n",
    "       \n",
    "    with mlflow.start_run():\n",
    "    \n",
    "        for epoch in range(400):\n",
    "            model.train()\n",
    "            optimizer.zero_grad()\n",
    "            out = model(data.x_dict, data.edge_index_dict)['id']\n",
    "            mask = data['id'].train_mask\n",
    "            loss = F.cross_entropy(out[mask], data['id'].y[mask])\n",
    "            loss.backward()\n",
    "            optimizer.step()\n",
    "                \n",
    "            if epoch % 300 == 0:\n",
    "                print(epoch)\n",
    "                train_acc = test(data['id'].train_mask)\n",
    "                val_acc = test(data['id'].val_mask)\n",
    "                print(f'Epoch: {epoch:>3} | Train Loss: {loss:.4f} | Train Acc: {train_acc*100:.2f}% | Val Acc: {val_acc*100:.2f}%')\n",
    "    \n",
    "                \n",
    "        test_acc = test(data['id'].test_mask)\n",
    "        print(f'Test accuracy: {test_acc*100:.2f}%')\n",
    "    \n",
    "        test_mask = data['id'].test_mask | data['id'].val_mask\n",
    "        pred = model(data.x_dict, data.edge_index_dict)['id'].argmax(dim=-1)\n",
    "        true_labels = data['id'].y[test_mask]\n",
    "        pred_labels = pred[test_mask]\n",
    "        test_precision =precision_score(true_labels, pred_labels, average='macro')\n",
    "        test_recall=recall_score(true_labels, pred_labels, average='macro')\n",
    "        print(f'Test Recall: {test_recall*100:.2f}%')\n",
    "        print(f'Test Precision: {test_precision*100:.2f}%')\n",
    "    \n",
    "        mlflow.log_metric(\"train_loss\", loss.item(), step=epoch)\n",
    "        mlflow.log_metric(\"train_acc\", train_acc, step=epoch)\n",
    "        mlflow.log_metric(\"val_acc\", val_acc, step=epoch)\n",
    "        mlflow.log_metric(\"test_acc\", test_acc)\n",
    "        mlflow.log_metric(\"test_precision\",  test_precision)\n",
    "        mlflow.log_metric(\"test_recall\",  test_recall)\n",
    "    \n",
    "                \n",
    "        mlflow.log_param(\"dim_h\", 64)\n",
    "        mlflow.log_param(\"dim_out\", 2)\n",
    "        mlflow.log_param(\"learning_rate\", 0.001)\n",
    "        mlflow.log_param(\"epochs\", 400)\n",
    "        mlflow.log_metric(\"time_cut\", time_cut)\n",
    "\n",
    "    \n",
    "    \n",
    "    \n",
    "            \n",
    "                \n",
    "        mlflow.pytorch.log_model(model, f\"GAT_model_{time_cut}\")\n"
   ]
  },
  {
   "cell_type": "code",
   "execution_count": 21,
   "id": "40d7212b-51fd-44ca-95eb-3a75e1c1a13f",
   "metadata": {},
   "outputs": [],
   "source": [
    "from torch_geometric.nn import HANConv, Linear\n",
    "from torch import nn\n",
    "\n",
    "class HAN(nn.Module):\n",
    "    def __init__(self, dim_in, dim_out, dim_h=64, heads=4):\n",
    "        super().__init__()\n",
    "        self.han = HANConv(dim_in, dim_h, heads=heads,dropout=0.2, metadata=data.metadata())\n",
    "        self.han2 = HANConv(dim_h, dim_h, heads=heads, dropout=0.2, metadata=data.metadata())\n",
    "        self.linear = nn.Linear(dim_h, dim_out)\n",
    "\n",
    "    def forward(self, x_dict, edge_index_dict):\n",
    "        out = self.han(x_dict, edge_index_dict)\n",
    "        out = self.han2(out, edge_index_dict)\n",
    "        out = self.linear(out['id'])\n",
    "        return out\n",
    "    \n",
    "@torch.no_grad()\n",
    "def test(mask):\n",
    "    model.eval()\n",
    "    pred = model(data.x_dict, data.edge_index_dict).argmax(dim=-1)\n",
    "    acc = (pred[mask] == data['id'].y[mask]).sum() / mask.sum()\n",
    "    return float(acc)"
   ]
  },
  {
   "cell_type": "code",
   "execution_count": 22,
   "id": "6eda189f-6fd0-4274-9b81-04938be18f8a",
   "metadata": {},
   "outputs": [
    {
     "name": "stdout",
     "output_type": "stream",
     "text": [
      "Epoch:   0 | Train Loss: 0.7939 | Train Acc: 30.45% | Val Acc: 41.28%\n",
      "Epoch:  20 | Train Loss: 0.5910 | Train Acc: 71.22% | Val Acc: 58.72%\n",
      "Epoch:  40 | Train Loss: 0.4654 | Train Acc: 79.09% | Val Acc: 66.86%\n",
      "Epoch:  60 | Train Loss: 0.3772 | Train Acc: 82.47% | Val Acc: 71.51%\n",
      "Epoch:  80 | Train Loss: 0.3504 | Train Acc: 84.34% | Val Acc: 76.16%\n",
      "Epoch: 100 | Train Loss: 0.3286 | Train Acc: 85.37% | Val Acc: 78.49%\n",
      "Epoch: 120 | Train Loss: 0.3106 | Train Acc: 86.29% | Val Acc: 77.91%\n",
      "Epoch: 140 | Train Loss: 0.2927 | Train Acc: 87.32% | Val Acc: 79.65%\n",
      "Epoch: 160 | Train Loss: 0.2721 | Train Acc: 88.00% | Val Acc: 80.23%\n",
      "Epoch: 180 | Train Loss: 0.2542 | Train Acc: 88.83% | Val Acc: 81.98%\n",
      "Epoch: 200 | Train Loss: 0.2293 | Train Acc: 89.71% | Val Acc: 82.56%\n",
      "Epoch: 220 | Train Loss: 0.2106 | Train Acc: 91.18% | Val Acc: 83.72%\n",
      "Epoch: 240 | Train Loss: 0.1915 | Train Acc: 92.09% | Val Acc: 83.14%\n",
      "Test accuracy: 71.93%\n"
     ]
    }
   ],
   "source": [
    "model = HAN(dim_in=-1, dim_out=2)\n",
    "\n",
    "optimizer = torch.optim.Adam(model.parameters(), lr=0.001)\n",
    "device = torch.device('cuda' if torch.cuda.is_available() else 'cpu')\n",
    "data, model = data.to(device), model.to(device)\n",
    "\n",
    "for epoch in range(250):\n",
    "    model.train()\n",
    "    optimizer.zero_grad()\n",
    "    out = model(data.x_dict, data.edge_index_dict)\n",
    "    mask = data['id'].train_mask\n",
    "    loss = F.cross_entropy(out[mask], data['id'].y[mask])\n",
    "    loss.backward()\n",
    "    optimizer.step()\n",
    "\n",
    "    if epoch % 20 == 0:\n",
    "        train_acc = test(data['id'].train_mask)\n",
    "        val_acc = test(data['id'].val_mask)\n",
    "        print(f'Epoch: {epoch:>3} | Train Loss: {loss:.4f} | Train Acc: {train_acc*100:.2f}% | Val Acc: {val_acc*100:.2f}%')\n",
    "\n",
    "test_acc = test(data['id'].test_mask)\n",
    "print(f'Test accuracy: {test_acc*100:.2f}%')"
   ]
  },
  {
   "cell_type": "code",
   "execution_count": 24,
   "id": "d8988f51-7a29-445b-babc-c83b853a4732",
   "metadata": {},
   "outputs": [
    {
     "name": "stdout",
     "output_type": "stream",
     "text": [
      "Test Recall: 78.23%\n",
      "Test Precision: 80.01%\n"
     ]
    }
   ],
   "source": [
    "test_mask = data['id'].test_mask | data['id'].val_mask\n",
    "pred = model(data.x_dict, data.edge_index_dict).argmax(dim=-1)\n",
    "true_labels = data['id'].y[test_mask]\n",
    "pred_labels = pred[test_mask]\n",
    "test_precision =precision_score(true_labels, pred_labels, average='macro')\n",
    "test_recall=recall_score(true_labels, pred_labels, average='macro')\n",
    "print(f'Test Recall: {test_recall*100:.2f}%')\n",
    "print(f'Test Precision: {test_precision*100:.2f}%')"
   ]
  },
  {
   "cell_type": "code",
   "execution_count": null,
   "id": "db22e904-59e9-415f-9e40-15d2cdba5196",
   "metadata": {},
   "outputs": [],
   "source": []
  },
  {
   "cell_type": "code",
   "execution_count": null,
   "id": "9181da0a-2e6b-4a50-885e-5134f38db0fd",
   "metadata": {},
   "outputs": [],
   "source": []
  },
  {
   "cell_type": "code",
   "execution_count": null,
   "id": "00f4ee10-b3e1-498d-9f8d-6b46383741e7",
   "metadata": {},
   "outputs": [],
   "source": []
  }
 ],
 "metadata": {
  "kernelspec": {
   "display_name": "Python 3 (ipykernel)",
   "language": "python",
   "name": "python3"
  },
  "language_info": {
   "codemirror_mode": {
    "name": "ipython",
    "version": 3
   },
   "file_extension": ".py",
   "mimetype": "text/x-python",
   "name": "python",
   "nbconvert_exporter": "python",
   "pygments_lexer": "ipython3",
   "version": "3.12.2"
  }
 },
 "nbformat": 4,
 "nbformat_minor": 5
}
